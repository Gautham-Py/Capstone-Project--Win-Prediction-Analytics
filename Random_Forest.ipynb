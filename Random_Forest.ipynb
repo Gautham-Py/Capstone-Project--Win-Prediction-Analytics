{
 "cells": [
  {
   "cell_type": "code",
   "execution_count": 1,
   "id": "70d3c455",
   "metadata": {},
   "outputs": [],
   "source": [
    "import os\n",
    "import pandas   as pd\n",
    "import numpy    as np\n",
    "import seaborn  as sns\n",
    "import matplotlib.pyplot as plt\n",
    "%matplotlib inline\n",
    "import warnings\n",
    "warnings.filterwarnings(\"ignore\")\n",
    "\n",
    "from sklearn.metrics import roc_curve\n",
    "from sklearn.metrics import roc_auc_score\n",
    "from sklearn.metrics import confusion_matrix, ConfusionMatrixDisplay\n",
    "from sklearn.metrics import classification_report\n",
    "from sklearn.metrics import accuracy_score"
   ]
  },
  {
   "cell_type": "code",
   "execution_count": 2,
   "id": "4c0d783d",
   "metadata": {},
   "outputs": [],
   "source": [
    "os.chdir(\"E:/DATA SCIENCE/Capstone Project/Win Prediction\")"
   ]
  },
  {
   "cell_type": "code",
   "execution_count": 3,
   "id": "1f579cee",
   "metadata": {},
   "outputs": [],
   "source": [
    "fullraw = pd.read_csv(\"Win_Prediction_Data.csv\")"
   ]
  },
  {
   "cell_type": "code",
   "execution_count": 4,
   "id": "f5d4b2a3",
   "metadata": {
    "scrolled": true
   },
   "outputs": [
    {
     "data": {
      "text/html": [
       "<div>\n",
       "<style scoped>\n",
       "    .dataframe tbody tr th:only-of-type {\n",
       "        vertical-align: middle;\n",
       "    }\n",
       "\n",
       "    .dataframe tbody tr th {\n",
       "        vertical-align: top;\n",
       "    }\n",
       "\n",
       "    .dataframe thead th {\n",
       "        text-align: right;\n",
       "    }\n",
       "</style>\n",
       "<table border=\"1\" class=\"dataframe\">\n",
       "  <thead>\n",
       "    <tr style=\"text-align: right;\">\n",
       "      <th></th>\n",
       "      <th>Client Category</th>\n",
       "      <th>Solution Type</th>\n",
       "      <th>Deal Date</th>\n",
       "      <th>Sector</th>\n",
       "      <th>Location</th>\n",
       "      <th>VP Name</th>\n",
       "      <th>Manager Name</th>\n",
       "      <th>Deal Cost</th>\n",
       "      <th>Deal Status Code</th>\n",
       "    </tr>\n",
       "  </thead>\n",
       "  <tbody>\n",
       "    <tr>\n",
       "      <th>0</th>\n",
       "      <td>Telecom</td>\n",
       "      <td>Solution 7</td>\n",
       "      <td>27-Mar-12</td>\n",
       "      <td>Sector 24</td>\n",
       "      <td>L5</td>\n",
       "      <td>Ekta Zutshi</td>\n",
       "      <td>Gopa Trilochana</td>\n",
       "      <td>150000.00</td>\n",
       "      <td>Won</td>\n",
       "    </tr>\n",
       "    <tr>\n",
       "      <th>1</th>\n",
       "      <td>Telecom</td>\n",
       "      <td>Solution 7</td>\n",
       "      <td>25-Sep-12</td>\n",
       "      <td>Sector 24</td>\n",
       "      <td>L5</td>\n",
       "      <td>Ekta Zutshi</td>\n",
       "      <td>Gopa Trilochana</td>\n",
       "      <td>744705.88</td>\n",
       "      <td>Won</td>\n",
       "    </tr>\n",
       "    <tr>\n",
       "      <th>2</th>\n",
       "      <td>Internal</td>\n",
       "      <td>Solution 59</td>\n",
       "      <td>1-Aug-11</td>\n",
       "      <td>Sector 20</td>\n",
       "      <td>Others</td>\n",
       "      <td>Ekta Zutshi</td>\n",
       "      <td>Russell Dahlen</td>\n",
       "      <td>60000.00</td>\n",
       "      <td>Lost</td>\n",
       "    </tr>\n",
       "    <tr>\n",
       "      <th>3</th>\n",
       "      <td>Internal</td>\n",
       "      <td>Solution 59</td>\n",
       "      <td>28-Apr-11</td>\n",
       "      <td>Sector 20</td>\n",
       "      <td>Others</td>\n",
       "      <td>Ekta Zutshi</td>\n",
       "      <td>Russell Dahlen</td>\n",
       "      <td>60000.00</td>\n",
       "      <td>Lost</td>\n",
       "    </tr>\n",
       "    <tr>\n",
       "      <th>4</th>\n",
       "      <td>Internal</td>\n",
       "      <td>Solution 32</td>\n",
       "      <td>3-Jun-11</td>\n",
       "      <td>Sector 20</td>\n",
       "      <td>Others</td>\n",
       "      <td>Ekta Zutshi</td>\n",
       "      <td>Russell Dahlen</td>\n",
       "      <td>80882.35</td>\n",
       "      <td>Lost</td>\n",
       "    </tr>\n",
       "    <tr>\n",
       "      <th>...</th>\n",
       "      <td>...</td>\n",
       "      <td>...</td>\n",
       "      <td>...</td>\n",
       "      <td>...</td>\n",
       "      <td>...</td>\n",
       "      <td>...</td>\n",
       "      <td>...</td>\n",
       "      <td>...</td>\n",
       "      <td>...</td>\n",
       "    </tr>\n",
       "    <tr>\n",
       "      <th>10056</th>\n",
       "      <td>Power ind</td>\n",
       "      <td>Solution 9</td>\n",
       "      <td>18-Mar-19</td>\n",
       "      <td>Sector 9</td>\n",
       "      <td>L5</td>\n",
       "      <td>Rudraksh Sharma</td>\n",
       "      <td>Rudraksh Sharma</td>\n",
       "      <td>588235.29</td>\n",
       "      <td>Lost</td>\n",
       "    </tr>\n",
       "    <tr>\n",
       "      <th>10057</th>\n",
       "      <td>Internal</td>\n",
       "      <td>Solution 6</td>\n",
       "      <td>4-Mar-19</td>\n",
       "      <td>Sector 20</td>\n",
       "      <td>Others</td>\n",
       "      <td>Rudraksh Sharma</td>\n",
       "      <td>Sharavan Singh</td>\n",
       "      <td>777058.82</td>\n",
       "      <td>Won</td>\n",
       "    </tr>\n",
       "    <tr>\n",
       "      <th>10058</th>\n",
       "      <td>Power ind</td>\n",
       "      <td>Solution 9</td>\n",
       "      <td>28-Feb-19</td>\n",
       "      <td>Sector 9</td>\n",
       "      <td>L5</td>\n",
       "      <td>Rudraksh Sharma</td>\n",
       "      <td>Rudraksh Sharma</td>\n",
       "      <td>588235.29</td>\n",
       "      <td>Lost</td>\n",
       "    </tr>\n",
       "    <tr>\n",
       "      <th>10059</th>\n",
       "      <td>Power ind</td>\n",
       "      <td>Solution 62</td>\n",
       "      <td>27-Jan-19</td>\n",
       "      <td>Sector 9</td>\n",
       "      <td>L5</td>\n",
       "      <td>Man Suddeth</td>\n",
       "      <td>Cleotilde Biron</td>\n",
       "      <td>3042058.82</td>\n",
       "      <td>Won</td>\n",
       "    </tr>\n",
       "    <tr>\n",
       "      <th>10060</th>\n",
       "      <td>Others</td>\n",
       "      <td>Solution 9</td>\n",
       "      <td>30-May-19</td>\n",
       "      <td>Sector 12</td>\n",
       "      <td>L10</td>\n",
       "      <td>Son Mcconnaughy</td>\n",
       "      <td>Tarun Garg</td>\n",
       "      <td>147058.82</td>\n",
       "      <td>Lost</td>\n",
       "    </tr>\n",
       "  </tbody>\n",
       "</table>\n",
       "<p>10061 rows × 9 columns</p>\n",
       "</div>"
      ],
      "text/plain": [
       "      Client Category Solution Type  Deal Date     Sector Location  \\\n",
       "0             Telecom    Solution 7  27-Mar-12  Sector 24       L5   \n",
       "1             Telecom    Solution 7  25-Sep-12  Sector 24       L5   \n",
       "2            Internal   Solution 59   1-Aug-11  Sector 20   Others   \n",
       "3            Internal   Solution 59  28-Apr-11  Sector 20   Others   \n",
       "4            Internal   Solution 32   3-Jun-11  Sector 20   Others   \n",
       "...               ...           ...        ...        ...      ...   \n",
       "10056       Power ind    Solution 9  18-Mar-19   Sector 9       L5   \n",
       "10057        Internal    Solution 6   4-Mar-19  Sector 20   Others   \n",
       "10058       Power ind    Solution 9  28-Feb-19   Sector 9       L5   \n",
       "10059       Power ind   Solution 62  27-Jan-19   Sector 9       L5   \n",
       "10060          Others    Solution 9  30-May-19  Sector 12      L10   \n",
       "\n",
       "               VP Name     Manager Name   Deal Cost Deal Status Code  \n",
       "0          Ekta Zutshi  Gopa Trilochana   150000.00              Won  \n",
       "1          Ekta Zutshi  Gopa Trilochana   744705.88              Won  \n",
       "2          Ekta Zutshi   Russell Dahlen    60000.00             Lost  \n",
       "3          Ekta Zutshi   Russell Dahlen    60000.00             Lost  \n",
       "4          Ekta Zutshi   Russell Dahlen    80882.35             Lost  \n",
       "...                ...              ...         ...              ...  \n",
       "10056  Rudraksh Sharma  Rudraksh Sharma   588235.29             Lost  \n",
       "10057  Rudraksh Sharma   Sharavan Singh   777058.82              Won  \n",
       "10058  Rudraksh Sharma  Rudraksh Sharma   588235.29             Lost  \n",
       "10059      Man Suddeth  Cleotilde Biron  3042058.82              Won  \n",
       "10060  Son Mcconnaughy       Tarun Garg   147058.82             Lost  \n",
       "\n",
       "[10061 rows x 9 columns]"
      ]
     },
     "execution_count": 4,
     "metadata": {},
     "output_type": "execute_result"
    }
   ],
   "source": [
    "fullraw"
   ]
  },
  {
   "cell_type": "code",
   "execution_count": 5,
   "id": "4c09b5d6",
   "metadata": {},
   "outputs": [
    {
     "data": {
      "text/html": [
       "<div>\n",
       "<style scoped>\n",
       "    .dataframe tbody tr th:only-of-type {\n",
       "        vertical-align: middle;\n",
       "    }\n",
       "\n",
       "    .dataframe tbody tr th {\n",
       "        vertical-align: top;\n",
       "    }\n",
       "\n",
       "    .dataframe thead th {\n",
       "        text-align: right;\n",
       "    }\n",
       "</style>\n",
       "<table border=\"1\" class=\"dataframe\">\n",
       "  <thead>\n",
       "    <tr style=\"text-align: right;\">\n",
       "      <th></th>\n",
       "      <th>Client Category</th>\n",
       "      <th>Solution Type</th>\n",
       "      <th>Deal Date</th>\n",
       "      <th>Sector</th>\n",
       "      <th>Location</th>\n",
       "      <th>VP Name</th>\n",
       "      <th>Manager Name</th>\n",
       "      <th>Deal Status Code</th>\n",
       "    </tr>\n",
       "  </thead>\n",
       "  <tbody>\n",
       "    <tr>\n",
       "      <th>count</th>\n",
       "      <td>9982</td>\n",
       "      <td>10061</td>\n",
       "      <td>10061</td>\n",
       "      <td>10061</td>\n",
       "      <td>10061</td>\n",
       "      <td>10061</td>\n",
       "      <td>10061</td>\n",
       "      <td>10061</td>\n",
       "    </tr>\n",
       "    <tr>\n",
       "      <th>unique</th>\n",
       "      <td>41</td>\n",
       "      <td>67</td>\n",
       "      <td>2555</td>\n",
       "      <td>25</td>\n",
       "      <td>13</td>\n",
       "      <td>43</td>\n",
       "      <td>278</td>\n",
       "      <td>2</td>\n",
       "    </tr>\n",
       "    <tr>\n",
       "      <th>top</th>\n",
       "      <td>Others</td>\n",
       "      <td>Solution 32</td>\n",
       "      <td>27-Jul-18</td>\n",
       "      <td>Sector 23</td>\n",
       "      <td>L10</td>\n",
       "      <td>Mervin Harwood</td>\n",
       "      <td>Molly Eakes</td>\n",
       "      <td>Lost</td>\n",
       "    </tr>\n",
       "    <tr>\n",
       "      <th>freq</th>\n",
       "      <td>1763</td>\n",
       "      <td>1439</td>\n",
       "      <td>15</td>\n",
       "      <td>2693</td>\n",
       "      <td>3360</td>\n",
       "      <td>1166</td>\n",
       "      <td>323</td>\n",
       "      <td>6306</td>\n",
       "    </tr>\n",
       "  </tbody>\n",
       "</table>\n",
       "</div>"
      ],
      "text/plain": [
       "       Client Category Solution Type  Deal Date     Sector Location  \\\n",
       "count             9982         10061      10061      10061    10061   \n",
       "unique              41            67       2555         25       13   \n",
       "top             Others   Solution 32  27-Jul-18  Sector 23      L10   \n",
       "freq              1763          1439         15       2693     3360   \n",
       "\n",
       "               VP Name Manager Name Deal Status Code  \n",
       "count            10061        10061            10061  \n",
       "unique              43          278                2  \n",
       "top     Mervin Harwood  Molly Eakes             Lost  \n",
       "freq              1166          323             6306  "
      ]
     },
     "execution_count": 5,
     "metadata": {},
     "output_type": "execute_result"
    }
   ],
   "source": [
    "fullraw.describe(include = 'object')"
   ]
  },
  {
   "cell_type": "markdown",
   "id": "1f3df827",
   "metadata": {},
   "source": [
    "### Missing Value Treatment"
   ]
  },
  {
   "cell_type": "code",
   "execution_count": 6,
   "id": "b247fa58",
   "metadata": {},
   "outputs": [
    {
     "data": {
      "text/plain": [
       "Client Category     79\n",
       "Solution Type        0\n",
       "Deal Date            0\n",
       "Sector               0\n",
       "Location             0\n",
       "VP Name              0\n",
       "Manager Name         0\n",
       "Deal Cost            0\n",
       "Deal Status Code     0\n",
       "dtype: int64"
      ]
     },
     "execution_count": 6,
     "metadata": {},
     "output_type": "execute_result"
    }
   ],
   "source": [
    "fullraw.isnull().sum()"
   ]
  },
  {
   "cell_type": "markdown",
   "id": "791a5f87",
   "metadata": {},
   "source": [
    "#### Replacing Missing Values with Mode_Value in Client Category"
   ]
  },
  {
   "cell_type": "code",
   "execution_count": 7,
   "id": "7398f1a2",
   "metadata": {},
   "outputs": [],
   "source": [
    "fullraw['Client Category'] = fullraw['Client Category'].fillna(fullraw['Client Category'].mode()[0])"
   ]
  },
  {
   "cell_type": "code",
   "execution_count": 8,
   "id": "b3399309",
   "metadata": {},
   "outputs": [
    {
     "data": {
      "text/plain": [
       "Client Category     0\n",
       "Solution Type       0\n",
       "Deal Date           0\n",
       "Sector              0\n",
       "Location            0\n",
       "VP Name             0\n",
       "Manager Name        0\n",
       "Deal Cost           0\n",
       "Deal Status Code    0\n",
       "dtype: int64"
      ]
     },
     "execution_count": 8,
     "metadata": {},
     "output_type": "execute_result"
    }
   ],
   "source": [
    "fullraw.isnull().sum()"
   ]
  },
  {
   "cell_type": "markdown",
   "id": "c2088725",
   "metadata": {},
   "source": [
    "#### CorrPlot"
   ]
  },
  {
   "cell_type": "code",
   "execution_count": 9,
   "id": "51e9a036",
   "metadata": {
    "scrolled": false
   },
   "outputs": [
    {
     "data": {
      "text/html": [
       "<div>\n",
       "<style scoped>\n",
       "    .dataframe tbody tr th:only-of-type {\n",
       "        vertical-align: middle;\n",
       "    }\n",
       "\n",
       "    .dataframe tbody tr th {\n",
       "        vertical-align: top;\n",
       "    }\n",
       "\n",
       "    .dataframe thead th {\n",
       "        text-align: right;\n",
       "    }\n",
       "</style>\n",
       "<table border=\"1\" class=\"dataframe\">\n",
       "  <thead>\n",
       "    <tr style=\"text-align: right;\">\n",
       "      <th></th>\n",
       "      <th>Client Category</th>\n",
       "      <th>Solution Type</th>\n",
       "      <th>Deal Date</th>\n",
       "      <th>Sector</th>\n",
       "      <th>Location</th>\n",
       "      <th>VP Name</th>\n",
       "      <th>Manager Name</th>\n",
       "      <th>Deal Cost</th>\n",
       "      <th>Deal Status Code</th>\n",
       "    </tr>\n",
       "  </thead>\n",
       "  <tbody>\n",
       "    <tr>\n",
       "      <th>Client Category</th>\n",
       "      <td>1.000000</td>\n",
       "      <td>-0.000288</td>\n",
       "      <td>0.040162</td>\n",
       "      <td>0.415474</td>\n",
       "      <td>-0.058440</td>\n",
       "      <td>0.065936</td>\n",
       "      <td>0.065094</td>\n",
       "      <td>-0.067567</td>\n",
       "      <td>0.066413</td>\n",
       "    </tr>\n",
       "    <tr>\n",
       "      <th>Solution Type</th>\n",
       "      <td>-0.000288</td>\n",
       "      <td>1.000000</td>\n",
       "      <td>0.169710</td>\n",
       "      <td>-0.005967</td>\n",
       "      <td>-0.062212</td>\n",
       "      <td>0.104661</td>\n",
       "      <td>0.091017</td>\n",
       "      <td>0.076593</td>\n",
       "      <td>0.094455</td>\n",
       "    </tr>\n",
       "    <tr>\n",
       "      <th>Deal Date</th>\n",
       "      <td>0.040162</td>\n",
       "      <td>0.169710</td>\n",
       "      <td>1.000000</td>\n",
       "      <td>0.032783</td>\n",
       "      <td>0.024889</td>\n",
       "      <td>0.228715</td>\n",
       "      <td>0.315075</td>\n",
       "      <td>0.122406</td>\n",
       "      <td>0.018173</td>\n",
       "    </tr>\n",
       "    <tr>\n",
       "      <th>Sector</th>\n",
       "      <td>0.415474</td>\n",
       "      <td>-0.005967</td>\n",
       "      <td>0.032783</td>\n",
       "      <td>1.000000</td>\n",
       "      <td>0.026685</td>\n",
       "      <td>0.068515</td>\n",
       "      <td>0.045726</td>\n",
       "      <td>-0.073057</td>\n",
       "      <td>0.030751</td>\n",
       "    </tr>\n",
       "    <tr>\n",
       "      <th>Location</th>\n",
       "      <td>-0.058440</td>\n",
       "      <td>-0.062212</td>\n",
       "      <td>0.024889</td>\n",
       "      <td>0.026685</td>\n",
       "      <td>1.000000</td>\n",
       "      <td>0.058452</td>\n",
       "      <td>0.011930</td>\n",
       "      <td>0.025785</td>\n",
       "      <td>0.048104</td>\n",
       "    </tr>\n",
       "    <tr>\n",
       "      <th>VP Name</th>\n",
       "      <td>0.065936</td>\n",
       "      <td>0.104661</td>\n",
       "      <td>0.228715</td>\n",
       "      <td>0.068515</td>\n",
       "      <td>0.058452</td>\n",
       "      <td>1.000000</td>\n",
       "      <td>0.386554</td>\n",
       "      <td>0.070132</td>\n",
       "      <td>0.033829</td>\n",
       "    </tr>\n",
       "    <tr>\n",
       "      <th>Manager Name</th>\n",
       "      <td>0.065094</td>\n",
       "      <td>0.091017</td>\n",
       "      <td>0.315075</td>\n",
       "      <td>0.045726</td>\n",
       "      <td>0.011930</td>\n",
       "      <td>0.386554</td>\n",
       "      <td>1.000000</td>\n",
       "      <td>0.098620</td>\n",
       "      <td>-0.017289</td>\n",
       "    </tr>\n",
       "    <tr>\n",
       "      <th>Deal Cost</th>\n",
       "      <td>-0.067567</td>\n",
       "      <td>0.076593</td>\n",
       "      <td>0.122406</td>\n",
       "      <td>-0.073057</td>\n",
       "      <td>0.025785</td>\n",
       "      <td>0.070132</td>\n",
       "      <td>0.098620</td>\n",
       "      <td>1.000000</td>\n",
       "      <td>-0.202129</td>\n",
       "    </tr>\n",
       "    <tr>\n",
       "      <th>Deal Status Code</th>\n",
       "      <td>0.066413</td>\n",
       "      <td>0.094455</td>\n",
       "      <td>0.018173</td>\n",
       "      <td>0.030751</td>\n",
       "      <td>0.048104</td>\n",
       "      <td>0.033829</td>\n",
       "      <td>-0.017289</td>\n",
       "      <td>-0.202129</td>\n",
       "      <td>1.000000</td>\n",
       "    </tr>\n",
       "  </tbody>\n",
       "</table>\n",
       "</div>"
      ],
      "text/plain": [
       "                  Client Category  Solution Type  Deal Date    Sector  \\\n",
       "Client Category          1.000000      -0.000288   0.040162  0.415474   \n",
       "Solution Type           -0.000288       1.000000   0.169710 -0.005967   \n",
       "Deal Date                0.040162       0.169710   1.000000  0.032783   \n",
       "Sector                   0.415474      -0.005967   0.032783  1.000000   \n",
       "Location                -0.058440      -0.062212   0.024889  0.026685   \n",
       "VP Name                  0.065936       0.104661   0.228715  0.068515   \n",
       "Manager Name             0.065094       0.091017   0.315075  0.045726   \n",
       "Deal Cost               -0.067567       0.076593   0.122406 -0.073057   \n",
       "Deal Status Code         0.066413       0.094455   0.018173  0.030751   \n",
       "\n",
       "                  Location   VP Name  Manager Name  Deal Cost  \\\n",
       "Client Category  -0.058440  0.065936      0.065094  -0.067567   \n",
       "Solution Type    -0.062212  0.104661      0.091017   0.076593   \n",
       "Deal Date         0.024889  0.228715      0.315075   0.122406   \n",
       "Sector            0.026685  0.068515      0.045726  -0.073057   \n",
       "Location          1.000000  0.058452      0.011930   0.025785   \n",
       "VP Name           0.058452  1.000000      0.386554   0.070132   \n",
       "Manager Name      0.011930  0.386554      1.000000   0.098620   \n",
       "Deal Cost         0.025785  0.070132      0.098620   1.000000   \n",
       "Deal Status Code  0.048104  0.033829     -0.017289  -0.202129   \n",
       "\n",
       "                  Deal Status Code  \n",
       "Client Category           0.066413  \n",
       "Solution Type             0.094455  \n",
       "Deal Date                 0.018173  \n",
       "Sector                    0.030751  \n",
       "Location                  0.048104  \n",
       "VP Name                   0.033829  \n",
       "Manager Name             -0.017289  \n",
       "Deal Cost                -0.202129  \n",
       "Deal Status Code          1.000000  "
      ]
     },
     "execution_count": 9,
     "metadata": {},
     "output_type": "execute_result"
    }
   ],
   "source": [
    "df = fullraw.apply( lambda x : pd.factorize(x)[0]).corr(method = \"pearson\", min_periods = 1); df"
   ]
  },
  {
   "cell_type": "code",
   "execution_count": 10,
   "id": "b635b168",
   "metadata": {},
   "outputs": [
    {
     "data": {
      "image/png": "[encoded data removed]",
      "text/plain": [
       "<Figure size 1440x720 with 2 Axes>"
      ]
     },
     "metadata": {
      "needs_background": "light"
     },
     "output_type": "display_data"
    }
   ],
   "source": [
    "plt.figure (figsize = (20, 10))\n",
    "ax = sns.heatmap( df, \n",
    "                  vmin=-1, vmax=1, center=0,\n",
    "                  cmap=sns.diverging_palette(20, 220, n=200),\n",
    "                  square=True )\n",
    "ax.set_xticklabels(ax.get_xticklabels(),\n",
    "                   rotation=45,\n",
    "                   horizontalalignment='right');"
   ]
  },
  {
   "cell_type": "markdown",
   "id": "ee7660ce",
   "metadata": {},
   "source": [
    "## Data PreProcessing"
   ]
  },
  {
   "cell_type": "markdown",
   "id": "da73d030",
   "metadata": {},
   "source": [
    "#### Deal_Cost Column"
   ]
  },
  {
   "cell_type": "code",
   "execution_count": 11,
   "id": "b79aab69",
   "metadata": {},
   "outputs": [
    {
     "data": {
      "text/plain": [
       "<AxesSubplot:xlabel='Deal Cost', ylabel='Count'>"
      ]
     },
     "execution_count": 11,
     "metadata": {},
     "output_type": "execute_result"
    },
    {
     "data": {
      "image/png": "[encoded data removed]",
      "text/plain": [
       "<Figure size 1440x720 with 1 Axes>"
      ]
     },
     "metadata": {
      "needs_background": "light"
     },
     "output_type": "display_data"
    }
   ],
   "source": [
    "get_ipython().run_line_magic('matplotlib','inline')\n",
    "\n",
    "plt.figure(figsize = (20,10))\n",
    "sns.histplot(fullraw['Deal Cost'])"
   ]
  },
  {
   "cell_type": "markdown",
   "id": "90416d69",
   "metadata": {},
   "source": [
    "###### The Deal_Cost column is Right_Skewed..."
   ]
  },
  {
   "cell_type": "code",
   "execution_count": 12,
   "id": "0f1a41a0",
   "metadata": {},
   "outputs": [
    {
     "data": {
      "text/plain": [
       "294117.65     508\n",
       "588235.29     390\n",
       "441176.47     377\n",
       "147058.82     363\n",
       "0.00          246\n",
       "             ... \n",
       "329117.65       1\n",
       "101764.71       1\n",
       "503529.41       1\n",
       "666176.47       1\n",
       "3042058.82      1\n",
       "Name: Deal Cost, Length: 1469, dtype: int64"
      ]
     },
     "execution_count": 12,
     "metadata": {},
     "output_type": "execute_result"
    }
   ],
   "source": [
    "fullraw['Deal Cost'].value_counts()"
   ]
  },
  {
   "cell_type": "markdown",
   "id": "67fb2343",
   "metadata": {},
   "source": [
    "###### Handling \"0\" values in Deal_Cost with Median Value"
   ]
  },
  {
   "cell_type": "code",
   "execution_count": 13,
   "id": "40eb9faa",
   "metadata": {},
   "outputs": [
    {
     "data": {
      "text/plain": [
       "382352.94"
      ]
     },
     "execution_count": 13,
     "metadata": {},
     "output_type": "execute_result"
    }
   ],
   "source": [
    "tempmedian = fullraw['Deal Cost'].median(); tempmedian"
   ]
  },
  {
   "cell_type": "code",
   "execution_count": 14,
   "id": "a614ae83",
   "metadata": {},
   "outputs": [
    {
     "data": {
      "text/plain": [
       "294117.65      508\n",
       "588235.29      390\n",
       "441176.47      377\n",
       "147058.82      363\n",
       "382352.94      309\n",
       "              ... \n",
       "36764705.88      1\n",
       "1046764.71       1\n",
       "22058823.53      1\n",
       "29411764.71      1\n",
       "3042058.82       1\n",
       "Name: Deal Cost, Length: 1468, dtype: int64"
      ]
     },
     "execution_count": 14,
     "metadata": {},
     "output_type": "execute_result"
    }
   ],
   "source": [
    "fullraw['Deal Cost'].replace(0.00, tempmedian, inplace = True)\n",
    "\n",
    "fullraw['Deal Cost'].value_counts()"
   ]
  },
  {
   "cell_type": "markdown",
   "id": "14fdfc09",
   "metadata": {},
   "source": [
    "#### Log value of Deal Cost  to normalise the Skewed Data"
   ]
  },
  {
   "cell_type": "code",
   "execution_count": 15,
   "id": "bb1d2afc",
   "metadata": {},
   "outputs": [
    {
     "data": {
      "text/plain": [
       "<AxesSubplot:xlabel='Log Deal Cost', ylabel='Count'>"
      ]
     },
     "execution_count": 15,
     "metadata": {},
     "output_type": "execute_result"
    },
    {
     "data": {
      "image/png": "[encoded data removed]",
      "text/plain": [
       "<Figure size 1440x720 with 1 Axes>"
      ]
     },
     "metadata": {
      "needs_background": "light"
     },
     "output_type": "display_data"
    }
   ],
   "source": [
    "fullraw['Log Deal Cost'] = np.log(fullraw['Deal Cost'])\n",
    "\n",
    "plt.figure (figsize = (20,10))\n",
    "sns.histplot (fullraw[\"Log Deal Cost\"])"
   ]
  },
  {
   "cell_type": "markdown",
   "id": "642a304e",
   "metadata": {},
   "source": [
    "#### Combine VP Name and Manager Name¶"
   ]
  },
  {
   "cell_type": "code",
   "execution_count": 16,
   "id": "e2ed61ef",
   "metadata": {},
   "outputs": [],
   "source": [
    "fullraw['Vp_Manager'] = fullraw[\"VP Name\"] + \" \" + fullraw[\"Manager Name\"]"
   ]
  },
  {
   "cell_type": "markdown",
   "id": "2e002c5d",
   "metadata": {},
   "source": [
    "#### Dropping Column's from the data, which are not going to assist us in our model"
   ]
  },
  {
   "cell_type": "code",
   "execution_count": 17,
   "id": "51a8a8c7",
   "metadata": {},
   "outputs": [],
   "source": [
    "fullraw = fullraw.drop([\"Deal Cost\"], axis = 1)\n",
    "\n",
    "fullraw = fullraw.drop(['Deal Date'], axis = 1)\n",
    "\n",
    "fullraw = fullraw.drop([\"VP Name\"], axis = 1)\n",
    "\n",
    "fullraw = fullraw.drop([\"Manager Name\"], axis = 1)"
   ]
  },
  {
   "cell_type": "code",
   "execution_count": 18,
   "id": "247ee90e",
   "metadata": {
    "scrolled": true
   },
   "outputs": [
    {
     "data": {
      "text/html": [
       "<div>\n",
       "<style scoped>\n",
       "    .dataframe tbody tr th:only-of-type {\n",
       "        vertical-align: middle;\n",
       "    }\n",
       "\n",
       "    .dataframe tbody tr th {\n",
       "        vertical-align: top;\n",
       "    }\n",
       "\n",
       "    .dataframe thead th {\n",
       "        text-align: right;\n",
       "    }\n",
       "</style>\n",
       "<table border=\"1\" class=\"dataframe\">\n",
       "  <thead>\n",
       "    <tr style=\"text-align: right;\">\n",
       "      <th></th>\n",
       "      <th>Client Category</th>\n",
       "      <th>Solution Type</th>\n",
       "      <th>Sector</th>\n",
       "      <th>Location</th>\n",
       "      <th>Deal Status Code</th>\n",
       "      <th>Log Deal Cost</th>\n",
       "      <th>Vp_Manager</th>\n",
       "    </tr>\n",
       "  </thead>\n",
       "  <tbody>\n",
       "    <tr>\n",
       "      <th>0</th>\n",
       "      <td>Telecom</td>\n",
       "      <td>Solution 7</td>\n",
       "      <td>Sector 24</td>\n",
       "      <td>L5</td>\n",
       "      <td>Won</td>\n",
       "      <td>11.918391</td>\n",
       "      <td>Ekta Zutshi Gopa Trilochana</td>\n",
       "    </tr>\n",
       "    <tr>\n",
       "      <th>1</th>\n",
       "      <td>Telecom</td>\n",
       "      <td>Solution 7</td>\n",
       "      <td>Sector 24</td>\n",
       "      <td>L5</td>\n",
       "      <td>Won</td>\n",
       "      <td>13.520745</td>\n",
       "      <td>Ekta Zutshi Gopa Trilochana</td>\n",
       "    </tr>\n",
       "    <tr>\n",
       "      <th>2</th>\n",
       "      <td>Internal</td>\n",
       "      <td>Solution 59</td>\n",
       "      <td>Sector 20</td>\n",
       "      <td>Others</td>\n",
       "      <td>Lost</td>\n",
       "      <td>11.002100</td>\n",
       "      <td>Ekta Zutshi Russell Dahlen</td>\n",
       "    </tr>\n",
       "    <tr>\n",
       "      <th>3</th>\n",
       "      <td>Internal</td>\n",
       "      <td>Solution 59</td>\n",
       "      <td>Sector 20</td>\n",
       "      <td>Others</td>\n",
       "      <td>Lost</td>\n",
       "      <td>11.002100</td>\n",
       "      <td>Ekta Zutshi Russell Dahlen</td>\n",
       "    </tr>\n",
       "    <tr>\n",
       "      <th>4</th>\n",
       "      <td>Internal</td>\n",
       "      <td>Solution 32</td>\n",
       "      <td>Sector 20</td>\n",
       "      <td>Others</td>\n",
       "      <td>Lost</td>\n",
       "      <td>11.300751</td>\n",
       "      <td>Ekta Zutshi Russell Dahlen</td>\n",
       "    </tr>\n",
       "    <tr>\n",
       "      <th>...</th>\n",
       "      <td>...</td>\n",
       "      <td>...</td>\n",
       "      <td>...</td>\n",
       "      <td>...</td>\n",
       "      <td>...</td>\n",
       "      <td>...</td>\n",
       "      <td>...</td>\n",
       "    </tr>\n",
       "    <tr>\n",
       "      <th>10056</th>\n",
       "      <td>Power ind</td>\n",
       "      <td>Solution 9</td>\n",
       "      <td>Sector 9</td>\n",
       "      <td>L5</td>\n",
       "      <td>Lost</td>\n",
       "      <td>13.284882</td>\n",
       "      <td>Rudraksh Sharma Rudraksh Sharma</td>\n",
       "    </tr>\n",
       "    <tr>\n",
       "      <th>10057</th>\n",
       "      <td>Internal</td>\n",
       "      <td>Solution 6</td>\n",
       "      <td>Sector 20</td>\n",
       "      <td>Others</td>\n",
       "      <td>Won</td>\n",
       "      <td>13.563271</td>\n",
       "      <td>Rudraksh Sharma Sharavan Singh</td>\n",
       "    </tr>\n",
       "    <tr>\n",
       "      <th>10058</th>\n",
       "      <td>Power ind</td>\n",
       "      <td>Solution 9</td>\n",
       "      <td>Sector 9</td>\n",
       "      <td>L5</td>\n",
       "      <td>Lost</td>\n",
       "      <td>13.284882</td>\n",
       "      <td>Rudraksh Sharma Rudraksh Sharma</td>\n",
       "    </tr>\n",
       "    <tr>\n",
       "      <th>10059</th>\n",
       "      <td>Power ind</td>\n",
       "      <td>Solution 62</td>\n",
       "      <td>Sector 9</td>\n",
       "      <td>L5</td>\n",
       "      <td>Won</td>\n",
       "      <td>14.928045</td>\n",
       "      <td>Man Suddeth Cleotilde Biron</td>\n",
       "    </tr>\n",
       "    <tr>\n",
       "      <th>10060</th>\n",
       "      <td>Others</td>\n",
       "      <td>Solution 9</td>\n",
       "      <td>Sector 12</td>\n",
       "      <td>L10</td>\n",
       "      <td>Lost</td>\n",
       "      <td>11.898588</td>\n",
       "      <td>Son Mcconnaughy Tarun Garg</td>\n",
       "    </tr>\n",
       "  </tbody>\n",
       "</table>\n",
       "<p>10061 rows × 7 columns</p>\n",
       "</div>"
      ],
      "text/plain": [
       "      Client Category Solution Type     Sector Location Deal Status Code  \\\n",
       "0             Telecom    Solution 7  Sector 24       L5              Won   \n",
       "1             Telecom    Solution 7  Sector 24       L5              Won   \n",
       "2            Internal   Solution 59  Sector 20   Others             Lost   \n",
       "3            Internal   Solution 59  Sector 20   Others             Lost   \n",
       "4            Internal   Solution 32  Sector 20   Others             Lost   \n",
       "...               ...           ...        ...      ...              ...   \n",
       "10056       Power ind    Solution 9   Sector 9       L5             Lost   \n",
       "10057        Internal    Solution 6  Sector 20   Others              Won   \n",
       "10058       Power ind    Solution 9   Sector 9       L5             Lost   \n",
       "10059       Power ind   Solution 62   Sector 9       L5              Won   \n",
       "10060          Others    Solution 9  Sector 12      L10             Lost   \n",
       "\n",
       "       Log Deal Cost                       Vp_Manager  \n",
       "0          11.918391      Ekta Zutshi Gopa Trilochana  \n",
       "1          13.520745      Ekta Zutshi Gopa Trilochana  \n",
       "2          11.002100       Ekta Zutshi Russell Dahlen  \n",
       "3          11.002100       Ekta Zutshi Russell Dahlen  \n",
       "4          11.300751       Ekta Zutshi Russell Dahlen  \n",
       "...              ...                              ...  \n",
       "10056      13.284882  Rudraksh Sharma Rudraksh Sharma  \n",
       "10057      13.563271   Rudraksh Sharma Sharavan Singh  \n",
       "10058      13.284882  Rudraksh Sharma Rudraksh Sharma  \n",
       "10059      14.928045      Man Suddeth Cleotilde Biron  \n",
       "10060      11.898588       Son Mcconnaughy Tarun Garg  \n",
       "\n",
       "[10061 rows x 7 columns]"
      ]
     },
     "execution_count": 18,
     "metadata": {},
     "output_type": "execute_result"
    }
   ],
   "source": [
    "fullraw"
   ]
  },
  {
   "cell_type": "markdown",
   "id": "ca6dd9a7",
   "metadata": {},
   "source": [
    "## Feature Engineering"
   ]
  },
  {
   "cell_type": "markdown",
   "id": "a094b04f",
   "metadata": {},
   "source": [
    "#### Recoding Dependant Variable"
   ]
  },
  {
   "cell_type": "code",
   "execution_count": 19,
   "id": "b81fd43d",
   "metadata": {},
   "outputs": [],
   "source": [
    "fullraw['Deal Status Code'] = np.where(fullraw[\"Deal Status Code\"] == \"Won\", 1, 0)"
   ]
  },
  {
   "cell_type": "code",
   "execution_count": 20,
   "id": "88ccbbec",
   "metadata": {},
   "outputs": [
    {
     "data": {
      "text/plain": [
       "0    6306\n",
       "1    3755\n",
       "Name: Deal Status Code, dtype: int64"
      ]
     },
     "execution_count": 20,
     "metadata": {},
     "output_type": "execute_result"
    }
   ],
   "source": [
    "fullraw['Deal Status Code'].value_counts()"
   ]
  },
  {
   "cell_type": "markdown",
   "id": "d7a5fde7",
   "metadata": {},
   "source": [
    "#### Independant Variables"
   ]
  },
  {
   "cell_type": "code",
   "execution_count": 21,
   "id": "e790acab",
   "metadata": {},
   "outputs": [
    {
     "data": {
      "text/html": [
       "<div>\n",
       "<style scoped>\n",
       "    .dataframe tbody tr th:only-of-type {\n",
       "        vertical-align: middle;\n",
       "    }\n",
       "\n",
       "    .dataframe tbody tr th {\n",
       "        vertical-align: top;\n",
       "    }\n",
       "\n",
       "    .dataframe thead th {\n",
       "        text-align: right;\n",
       "    }\n",
       "</style>\n",
       "<table border=\"1\" class=\"dataframe\">\n",
       "  <thead>\n",
       "    <tr style=\"text-align: right;\">\n",
       "      <th></th>\n",
       "      <th>Client Category</th>\n",
       "      <th>Solution Type</th>\n",
       "      <th>Sector</th>\n",
       "      <th>Location</th>\n",
       "      <th>Log Deal Cost</th>\n",
       "      <th>Vp_Manager</th>\n",
       "    </tr>\n",
       "  </thead>\n",
       "  <tbody>\n",
       "    <tr>\n",
       "      <th>0</th>\n",
       "      <td>Telecom</td>\n",
       "      <td>Solution 7</td>\n",
       "      <td>Sector 24</td>\n",
       "      <td>L5</td>\n",
       "      <td>11.918391</td>\n",
       "      <td>Ekta Zutshi Gopa Trilochana</td>\n",
       "    </tr>\n",
       "    <tr>\n",
       "      <th>1</th>\n",
       "      <td>Telecom</td>\n",
       "      <td>Solution 7</td>\n",
       "      <td>Sector 24</td>\n",
       "      <td>L5</td>\n",
       "      <td>13.520745</td>\n",
       "      <td>Ekta Zutshi Gopa Trilochana</td>\n",
       "    </tr>\n",
       "    <tr>\n",
       "      <th>2</th>\n",
       "      <td>Internal</td>\n",
       "      <td>Solution 59</td>\n",
       "      <td>Sector 20</td>\n",
       "      <td>Others</td>\n",
       "      <td>11.002100</td>\n",
       "      <td>Ekta Zutshi Russell Dahlen</td>\n",
       "    </tr>\n",
       "    <tr>\n",
       "      <th>3</th>\n",
       "      <td>Internal</td>\n",
       "      <td>Solution 59</td>\n",
       "      <td>Sector 20</td>\n",
       "      <td>Others</td>\n",
       "      <td>11.002100</td>\n",
       "      <td>Ekta Zutshi Russell Dahlen</td>\n",
       "    </tr>\n",
       "    <tr>\n",
       "      <th>4</th>\n",
       "      <td>Internal</td>\n",
       "      <td>Solution 32</td>\n",
       "      <td>Sector 20</td>\n",
       "      <td>Others</td>\n",
       "      <td>11.300751</td>\n",
       "      <td>Ekta Zutshi Russell Dahlen</td>\n",
       "    </tr>\n",
       "    <tr>\n",
       "      <th>...</th>\n",
       "      <td>...</td>\n",
       "      <td>...</td>\n",
       "      <td>...</td>\n",
       "      <td>...</td>\n",
       "      <td>...</td>\n",
       "      <td>...</td>\n",
       "    </tr>\n",
       "    <tr>\n",
       "      <th>10056</th>\n",
       "      <td>Power ind</td>\n",
       "      <td>Solution 9</td>\n",
       "      <td>Sector 9</td>\n",
       "      <td>L5</td>\n",
       "      <td>13.284882</td>\n",
       "      <td>Rudraksh Sharma Rudraksh Sharma</td>\n",
       "    </tr>\n",
       "    <tr>\n",
       "      <th>10057</th>\n",
       "      <td>Internal</td>\n",
       "      <td>Solution 6</td>\n",
       "      <td>Sector 20</td>\n",
       "      <td>Others</td>\n",
       "      <td>13.563271</td>\n",
       "      <td>Rudraksh Sharma Sharavan Singh</td>\n",
       "    </tr>\n",
       "    <tr>\n",
       "      <th>10058</th>\n",
       "      <td>Power ind</td>\n",
       "      <td>Solution 9</td>\n",
       "      <td>Sector 9</td>\n",
       "      <td>L5</td>\n",
       "      <td>13.284882</td>\n",
       "      <td>Rudraksh Sharma Rudraksh Sharma</td>\n",
       "    </tr>\n",
       "    <tr>\n",
       "      <th>10059</th>\n",
       "      <td>Power ind</td>\n",
       "      <td>Solution 62</td>\n",
       "      <td>Sector 9</td>\n",
       "      <td>L5</td>\n",
       "      <td>14.928045</td>\n",
       "      <td>Man Suddeth Cleotilde Biron</td>\n",
       "    </tr>\n",
       "    <tr>\n",
       "      <th>10060</th>\n",
       "      <td>Others</td>\n",
       "      <td>Solution 9</td>\n",
       "      <td>Sector 12</td>\n",
       "      <td>L10</td>\n",
       "      <td>11.898588</td>\n",
       "      <td>Son Mcconnaughy Tarun Garg</td>\n",
       "    </tr>\n",
       "  </tbody>\n",
       "</table>\n",
       "<p>10061 rows × 6 columns</p>\n",
       "</div>"
      ],
      "text/plain": [
       "      Client Category Solution Type     Sector Location  Log Deal Cost  \\\n",
       "0             Telecom    Solution 7  Sector 24       L5      11.918391   \n",
       "1             Telecom    Solution 7  Sector 24       L5      13.520745   \n",
       "2            Internal   Solution 59  Sector 20   Others      11.002100   \n",
       "3            Internal   Solution 59  Sector 20   Others      11.002100   \n",
       "4            Internal   Solution 32  Sector 20   Others      11.300751   \n",
       "...               ...           ...        ...      ...            ...   \n",
       "10056       Power ind    Solution 9   Sector 9       L5      13.284882   \n",
       "10057        Internal    Solution 6  Sector 20   Others      13.563271   \n",
       "10058       Power ind    Solution 9   Sector 9       L5      13.284882   \n",
       "10059       Power ind   Solution 62   Sector 9       L5      14.928045   \n",
       "10060          Others    Solution 9  Sector 12      L10      11.898588   \n",
       "\n",
       "                            Vp_Manager  \n",
       "0          Ekta Zutshi Gopa Trilochana  \n",
       "1          Ekta Zutshi Gopa Trilochana  \n",
       "2           Ekta Zutshi Russell Dahlen  \n",
       "3           Ekta Zutshi Russell Dahlen  \n",
       "4           Ekta Zutshi Russell Dahlen  \n",
       "...                                ...  \n",
       "10056  Rudraksh Sharma Rudraksh Sharma  \n",
       "10057   Rudraksh Sharma Sharavan Singh  \n",
       "10058  Rudraksh Sharma Rudraksh Sharma  \n",
       "10059      Man Suddeth Cleotilde Biron  \n",
       "10060       Son Mcconnaughy Tarun Garg  \n",
       "\n",
       "[10061 rows x 6 columns]"
      ]
     },
     "execution_count": 21,
     "metadata": {},
     "output_type": "execute_result"
    }
   ],
   "source": [
    "X = fullraw.drop(\"Deal Status Code\", axis = 1);X"
   ]
  },
  {
   "cell_type": "markdown",
   "id": "9d11266c",
   "metadata": {},
   "source": [
    "#### Target Variable"
   ]
  },
  {
   "cell_type": "code",
   "execution_count": 22,
   "id": "441554b9",
   "metadata": {},
   "outputs": [
    {
     "data": {
      "text/plain": [
       "0        1\n",
       "1        1\n",
       "2        0\n",
       "3        0\n",
       "4        0\n",
       "        ..\n",
       "10056    0\n",
       "10057    1\n",
       "10058    0\n",
       "10059    1\n",
       "10060    0\n",
       "Name: Deal Status Code, Length: 10061, dtype: int32"
      ]
     },
     "execution_count": 22,
     "metadata": {},
     "output_type": "execute_result"
    }
   ],
   "source": [
    "y = fullraw[\"Deal Status Code\"];y"
   ]
  },
  {
   "cell_type": "markdown",
   "id": "fe4450f4",
   "metadata": {},
   "source": [
    "### Target Encoding"
   ]
  },
  {
   "cell_type": "code",
   "execution_count": 23,
   "id": "777b3bc3",
   "metadata": {},
   "outputs": [],
   "source": [
    "cols = ['Client Category', 'Solution Type', 'Sector', 'Location', 'VP_Manager']"
   ]
  },
  {
   "cell_type": "code",
   "execution_count": 24,
   "id": "d57ff292",
   "metadata": {},
   "outputs": [],
   "source": [
    "from sklearn.base import BaseEstimator, TransformerMixin\n",
    "\n",
    "class TargetEncoder(BaseEstimator, TransformerMixin):\n",
    "        \n",
    "    def __init__(self, cols=None):\n",
    "        \n",
    "        if isinstance(cols, str):\n",
    "            self.cols = [cols]\n",
    "        else:\n",
    "            self.cols = cols\n",
    "            \n",
    "    def fit(self, X, y):\n",
    "               \n",
    "        if self.cols is None:\n",
    "            self.cols = [col for col in X \n",
    "                         if str(X[col].dtype)=='object']\n",
    "\n",
    "        for col in self.cols:\n",
    "            if col not in X:\n",
    "                raise ValueError('Column \\''+col+'\\' not in X')\n",
    "\n",
    "        self.maps = dict() \n",
    "        for col in self.cols:\n",
    "            tmap = dict()\n",
    "            uniques = X[col].unique()\n",
    "            for unique in uniques:\n",
    "                tmap[unique] = y[X[col]==unique].mean()\n",
    "            self.maps[col] = tmap\n",
    "            \n",
    "        return self\n",
    "\n",
    "    def transform(self, X, y=None):\n",
    "        \n",
    "        Xo = X.copy()\n",
    "        for col, tmap in self.maps.items():\n",
    "            vals = np.full(X.shape[0], np.nan)\n",
    "            for val, mean_target in tmap.items():\n",
    "                vals[X[col]==val] = mean_target\n",
    "            Xo[col] = vals\n",
    "        return Xo\n",
    "            \n",
    "            \n",
    "    def fit_transform(self, X, y=None):\n",
    "        \n",
    "        return self.fit(X, y).transform(X, y)\n"
   ]
  },
  {
   "cell_type": "markdown",
   "id": "3b6ca0ba",
   "metadata": {},
   "source": [
    "#### Target Encode the categorical Data"
   ]
  },
  {
   "cell_type": "code",
   "execution_count": 25,
   "id": "f8d6ad3a",
   "metadata": {},
   "outputs": [
    {
     "data": {
      "text/html": [
       "<div>\n",
       "<style scoped>\n",
       "    .dataframe tbody tr th:only-of-type {\n",
       "        vertical-align: middle;\n",
       "    }\n",
       "\n",
       "    .dataframe tbody tr th {\n",
       "        vertical-align: top;\n",
       "    }\n",
       "\n",
       "    .dataframe thead th {\n",
       "        text-align: right;\n",
       "    }\n",
       "</style>\n",
       "<table border=\"1\" class=\"dataframe\">\n",
       "  <thead>\n",
       "    <tr style=\"text-align: right;\">\n",
       "      <th></th>\n",
       "      <th>Client Category</th>\n",
       "      <th>Solution Type</th>\n",
       "      <th>Sector</th>\n",
       "      <th>Location</th>\n",
       "      <th>Log Deal Cost</th>\n",
       "      <th>Vp_Manager</th>\n",
       "    </tr>\n",
       "  </thead>\n",
       "  <tbody>\n",
       "    <tr>\n",
       "      <th>5663</th>\n",
       "      <td>0.482955</td>\n",
       "      <td>0.564976</td>\n",
       "      <td>0.391014</td>\n",
       "      <td>0.336310</td>\n",
       "      <td>15.488641</td>\n",
       "      <td>0.611111</td>\n",
       "    </tr>\n",
       "    <tr>\n",
       "      <th>3490</th>\n",
       "      <td>0.353963</td>\n",
       "      <td>0.371429</td>\n",
       "      <td>0.391014</td>\n",
       "      <td>0.419847</td>\n",
       "      <td>12.854099</td>\n",
       "      <td>0.248826</td>\n",
       "    </tr>\n",
       "    <tr>\n",
       "      <th>5871</th>\n",
       "      <td>0.339434</td>\n",
       "      <td>0.491979</td>\n",
       "      <td>0.391014</td>\n",
       "      <td>0.419847</td>\n",
       "      <td>13.508026</td>\n",
       "      <td>0.571429</td>\n",
       "    </tr>\n",
       "    <tr>\n",
       "      <th>3796</th>\n",
       "      <td>0.342826</td>\n",
       "      <td>0.564976</td>\n",
       "      <td>0.391014</td>\n",
       "      <td>0.367847</td>\n",
       "      <td>12.429216</td>\n",
       "      <td>0.388889</td>\n",
       "    </tr>\n",
       "    <tr>\n",
       "      <th>6388</th>\n",
       "      <td>0.316239</td>\n",
       "      <td>0.491979</td>\n",
       "      <td>0.391014</td>\n",
       "      <td>0.419847</td>\n",
       "      <td>12.854099</td>\n",
       "      <td>0.000000</td>\n",
       "    </tr>\n",
       "    <tr>\n",
       "      <th>2929</th>\n",
       "      <td>0.342826</td>\n",
       "      <td>0.320866</td>\n",
       "      <td>0.391014</td>\n",
       "      <td>0.336310</td>\n",
       "      <td>12.396936</td>\n",
       "      <td>0.000000</td>\n",
       "    </tr>\n",
       "    <tr>\n",
       "      <th>5010</th>\n",
       "      <td>0.342826</td>\n",
       "      <td>0.314103</td>\n",
       "      <td>0.314741</td>\n",
       "      <td>0.419847</td>\n",
       "      <td>12.368592</td>\n",
       "      <td>0.125000</td>\n",
       "    </tr>\n",
       "    <tr>\n",
       "      <th>3379</th>\n",
       "      <td>0.370787</td>\n",
       "      <td>0.322176</td>\n",
       "      <td>0.316017</td>\n",
       "      <td>0.419847</td>\n",
       "      <td>12.486375</td>\n",
       "      <td>0.396226</td>\n",
       "    </tr>\n",
       "    <tr>\n",
       "      <th>5018</th>\n",
       "      <td>0.522696</td>\n",
       "      <td>0.314103</td>\n",
       "      <td>0.377163</td>\n",
       "      <td>0.478580</td>\n",
       "      <td>12.591735</td>\n",
       "      <td>0.444444</td>\n",
       "    </tr>\n",
       "    <tr>\n",
       "      <th>7804</th>\n",
       "      <td>0.353963</td>\n",
       "      <td>0.282087</td>\n",
       "      <td>0.377163</td>\n",
       "      <td>0.402062</td>\n",
       "      <td>13.179522</td>\n",
       "      <td>0.600000</td>\n",
       "    </tr>\n",
       "  </tbody>\n",
       "</table>\n",
       "</div>"
      ],
      "text/plain": [
       "      Client Category  Solution Type    Sector  Location  Log Deal Cost  \\\n",
       "5663         0.482955       0.564976  0.391014  0.336310      15.488641   \n",
       "3490         0.353963       0.371429  0.391014  0.419847      12.854099   \n",
       "5871         0.339434       0.491979  0.391014  0.419847      13.508026   \n",
       "3796         0.342826       0.564976  0.391014  0.367847      12.429216   \n",
       "6388         0.316239       0.491979  0.391014  0.419847      12.854099   \n",
       "2929         0.342826       0.320866  0.391014  0.336310      12.396936   \n",
       "5010         0.342826       0.314103  0.314741  0.419847      12.368592   \n",
       "3379         0.370787       0.322176  0.316017  0.419847      12.486375   \n",
       "5018         0.522696       0.314103  0.377163  0.478580      12.591735   \n",
       "7804         0.353963       0.282087  0.377163  0.402062      13.179522   \n",
       "\n",
       "      Vp_Manager  \n",
       "5663    0.611111  \n",
       "3490    0.248826  \n",
       "5871    0.571429  \n",
       "3796    0.388889  \n",
       "6388    0.000000  \n",
       "2929    0.000000  \n",
       "5010    0.125000  \n",
       "3379    0.396226  \n",
       "5018    0.444444  \n",
       "7804    0.600000  "
      ]
     },
     "execution_count": 25,
     "metadata": {},
     "output_type": "execute_result"
    }
   ],
   "source": [
    "te   = TargetEncoder()\n",
    "X_te = te.fit_transform(X, y)\n",
    "\n",
    "X_te.sample(10)"
   ]
  },
  {
   "cell_type": "markdown",
   "id": "7bcab2f3",
   "metadata": {},
   "source": [
    "### Sampling"
   ]
  },
  {
   "cell_type": "code",
   "execution_count": 26,
   "id": "cf57bec7",
   "metadata": {},
   "outputs": [
    {
     "data": {
      "text/html": [
       "<div>\n",
       "<style scoped>\n",
       "    .dataframe tbody tr th:only-of-type {\n",
       "        vertical-align: middle;\n",
       "    }\n",
       "\n",
       "    .dataframe tbody tr th {\n",
       "        vertical-align: top;\n",
       "    }\n",
       "\n",
       "    .dataframe thead th {\n",
       "        text-align: right;\n",
       "    }\n",
       "</style>\n",
       "<table border=\"1\" class=\"dataframe\">\n",
       "  <thead>\n",
       "    <tr style=\"text-align: right;\">\n",
       "      <th></th>\n",
       "      <th>Client Category</th>\n",
       "      <th>Solution Type</th>\n",
       "      <th>Sector</th>\n",
       "      <th>Location</th>\n",
       "      <th>Log Deal Cost</th>\n",
       "      <th>Vp_Manager</th>\n",
       "      <th>Deal Status Code</th>\n",
       "    </tr>\n",
       "  </thead>\n",
       "  <tbody>\n",
       "    <tr>\n",
       "      <th>0</th>\n",
       "      <td>0.412844</td>\n",
       "      <td>0.348315</td>\n",
       "      <td>0.377163</td>\n",
       "      <td>0.402062</td>\n",
       "      <td>11.918391</td>\n",
       "      <td>0.515152</td>\n",
       "      <td>1</td>\n",
       "    </tr>\n",
       "    <tr>\n",
       "      <th>1</th>\n",
       "      <td>0.412844</td>\n",
       "      <td>0.348315</td>\n",
       "      <td>0.377163</td>\n",
       "      <td>0.402062</td>\n",
       "      <td>13.520745</td>\n",
       "      <td>0.515152</td>\n",
       "      <td>1</td>\n",
       "    </tr>\n",
       "    <tr>\n",
       "      <th>2</th>\n",
       "      <td>0.522696</td>\n",
       "      <td>0.322176</td>\n",
       "      <td>0.503234</td>\n",
       "      <td>0.478580</td>\n",
       "      <td>11.002100</td>\n",
       "      <td>0.000000</td>\n",
       "      <td>0</td>\n",
       "    </tr>\n",
       "    <tr>\n",
       "      <th>3</th>\n",
       "      <td>0.522696</td>\n",
       "      <td>0.322176</td>\n",
       "      <td>0.503234</td>\n",
       "      <td>0.478580</td>\n",
       "      <td>11.002100</td>\n",
       "      <td>0.000000</td>\n",
       "      <td>0</td>\n",
       "    </tr>\n",
       "    <tr>\n",
       "      <th>4</th>\n",
       "      <td>0.522696</td>\n",
       "      <td>0.564976</td>\n",
       "      <td>0.503234</td>\n",
       "      <td>0.478580</td>\n",
       "      <td>11.300751</td>\n",
       "      <td>0.000000</td>\n",
       "      <td>0</td>\n",
       "    </tr>\n",
       "    <tr>\n",
       "      <th>...</th>\n",
       "      <td>...</td>\n",
       "      <td>...</td>\n",
       "      <td>...</td>\n",
       "      <td>...</td>\n",
       "      <td>...</td>\n",
       "      <td>...</td>\n",
       "      <td>...</td>\n",
       "    </tr>\n",
       "    <tr>\n",
       "      <th>10056</th>\n",
       "      <td>0.424242</td>\n",
       "      <td>0.282087</td>\n",
       "      <td>0.452575</td>\n",
       "      <td>0.402062</td>\n",
       "      <td>13.284882</td>\n",
       "      <td>0.000000</td>\n",
       "      <td>0</td>\n",
       "    </tr>\n",
       "    <tr>\n",
       "      <th>10057</th>\n",
       "      <td>0.522696</td>\n",
       "      <td>0.302752</td>\n",
       "      <td>0.503234</td>\n",
       "      <td>0.478580</td>\n",
       "      <td>13.563271</td>\n",
       "      <td>0.555556</td>\n",
       "      <td>1</td>\n",
       "    </tr>\n",
       "    <tr>\n",
       "      <th>10058</th>\n",
       "      <td>0.424242</td>\n",
       "      <td>0.282087</td>\n",
       "      <td>0.452575</td>\n",
       "      <td>0.402062</td>\n",
       "      <td>13.284882</td>\n",
       "      <td>0.000000</td>\n",
       "      <td>0</td>\n",
       "    </tr>\n",
       "    <tr>\n",
       "      <th>10059</th>\n",
       "      <td>0.424242</td>\n",
       "      <td>0.500000</td>\n",
       "      <td>0.452575</td>\n",
       "      <td>0.402062</td>\n",
       "      <td>14.928045</td>\n",
       "      <td>1.000000</td>\n",
       "      <td>1</td>\n",
       "    </tr>\n",
       "    <tr>\n",
       "      <th>10060</th>\n",
       "      <td>0.353963</td>\n",
       "      <td>0.282087</td>\n",
       "      <td>0.331137</td>\n",
       "      <td>0.336310</td>\n",
       "      <td>11.898588</td>\n",
       "      <td>0.153846</td>\n",
       "      <td>0</td>\n",
       "    </tr>\n",
       "  </tbody>\n",
       "</table>\n",
       "<p>10061 rows × 7 columns</p>\n",
       "</div>"
      ],
      "text/plain": [
       "       Client Category  Solution Type    Sector  Location  Log Deal Cost  \\\n",
       "0             0.412844       0.348315  0.377163  0.402062      11.918391   \n",
       "1             0.412844       0.348315  0.377163  0.402062      13.520745   \n",
       "2             0.522696       0.322176  0.503234  0.478580      11.002100   \n",
       "3             0.522696       0.322176  0.503234  0.478580      11.002100   \n",
       "4             0.522696       0.564976  0.503234  0.478580      11.300751   \n",
       "...                ...            ...       ...       ...            ...   \n",
       "10056         0.424242       0.282087  0.452575  0.402062      13.284882   \n",
       "10057         0.522696       0.302752  0.503234  0.478580      13.563271   \n",
       "10058         0.424242       0.282087  0.452575  0.402062      13.284882   \n",
       "10059         0.424242       0.500000  0.452575  0.402062      14.928045   \n",
       "10060         0.353963       0.282087  0.331137  0.336310      11.898588   \n",
       "\n",
       "       Vp_Manager  Deal Status Code  \n",
       "0        0.515152                 1  \n",
       "1        0.515152                 1  \n",
       "2        0.000000                 0  \n",
       "3        0.000000                 0  \n",
       "4        0.000000                 0  \n",
       "...           ...               ...  \n",
       "10056    0.000000                 0  \n",
       "10057    0.555556                 1  \n",
       "10058    0.000000                 0  \n",
       "10059    1.000000                 1  \n",
       "10060    0.153846                 0  \n",
       "\n",
       "[10061 rows x 7 columns]"
      ]
     },
     "execution_count": 26,
     "metadata": {},
     "output_type": "execute_result"
    }
   ],
   "source": [
    "fullraw2 = pd.concat([X_te, y], axis = 1); fullraw2"
   ]
  },
  {
   "cell_type": "code",
   "execution_count": 27,
   "id": "396ef1d5",
   "metadata": {},
   "outputs": [],
   "source": [
    "from sklearn.model_selection import train_test_split\n",
    "\n",
    "Train, Test = train_test_split(fullraw2, train_size = 0.80, random_state = 137)"
   ]
  },
  {
   "cell_type": "code",
   "execution_count": 28,
   "id": "f509593a",
   "metadata": {},
   "outputs": [
    {
     "data": {
      "text/plain": [
       "(8048, 7)"
      ]
     },
     "execution_count": 28,
     "metadata": {},
     "output_type": "execute_result"
    }
   ],
   "source": [
    "Train.shape"
   ]
  },
  {
   "cell_type": "code",
   "execution_count": 29,
   "id": "f2140423",
   "metadata": {},
   "outputs": [
    {
     "data": {
      "text/plain": [
       "(2013, 7)"
      ]
     },
     "execution_count": 29,
     "metadata": {},
     "output_type": "execute_result"
    }
   ],
   "source": [
    "Test.shape"
   ]
  },
  {
   "cell_type": "markdown",
   "id": "e975db6e",
   "metadata": {},
   "source": [
    "#### Sampling into X & Y\n",
    "##### Dividing each dataset into Independant Variables & Dependant Variables(depvar)"
   ]
  },
  {
   "cell_type": "code",
   "execution_count": 30,
   "id": "fada2c27",
   "metadata": {},
   "outputs": [],
   "source": [
    "depvar = \"Deal Status Code\""
   ]
  },
  {
   "cell_type": "code",
   "execution_count": 31,
   "id": "87fd2274",
   "metadata": {},
   "outputs": [],
   "source": [
    "TrainX = Train.drop(depvar, axis = 1).copy()\n",
    "\n",
    "TrainY = Train[depvar].copy()"
   ]
  },
  {
   "cell_type": "code",
   "execution_count": 32,
   "id": "63591a23",
   "metadata": {},
   "outputs": [
    {
     "data": {
      "text/plain": [
       "(8048, 6)"
      ]
     },
     "execution_count": 32,
     "metadata": {},
     "output_type": "execute_result"
    }
   ],
   "source": [
    "TrainX.shape"
   ]
  },
  {
   "cell_type": "code",
   "execution_count": 33,
   "id": "814b1127",
   "metadata": {},
   "outputs": [],
   "source": [
    "TestX = Test.drop(depvar, axis= 1).copy()\n",
    "\n",
    "TestY = Test[depvar].copy()"
   ]
  },
  {
   "cell_type": "code",
   "execution_count": 34,
   "id": "01b5d241",
   "metadata": {},
   "outputs": [
    {
     "data": {
      "text/plain": [
       "(2013, 6)"
      ]
     },
     "execution_count": 34,
     "metadata": {},
     "output_type": "execute_result"
    }
   ],
   "source": [
    "TestX.shape"
   ]
  },
  {
   "cell_type": "code",
   "execution_count": 35,
   "id": "76e2d783",
   "metadata": {},
   "outputs": [
    {
     "data": {
      "text/plain": [
       "8144    1\n",
       "2043    0\n",
       "2803    0\n",
       "7639    1\n",
       "9557    0\n",
       "       ..\n",
       "9139    0\n",
       "905     0\n",
       "6238    0\n",
       "7623    0\n",
       "9010    0\n",
       "Name: Deal Status Code, Length: 2013, dtype: int32"
      ]
     },
     "execution_count": 35,
     "metadata": {},
     "output_type": "execute_result"
    }
   ],
   "source": [
    "TestY"
   ]
  },
  {
   "cell_type": "markdown",
   "id": "c99bae10",
   "metadata": {},
   "source": [
    "## Random Forest "
   ]
  },
  {
   "cell_type": "code",
   "execution_count": 36,
   "id": "67050e92",
   "metadata": {},
   "outputs": [],
   "source": [
    "from sklearn.ensemble import RandomForestClassifier"
   ]
  },
  {
   "cell_type": "code",
   "execution_count": 37,
   "id": "3925bc52",
   "metadata": {},
   "outputs": [],
   "source": [
    "M_rf1 = RandomForestClassifier(random_state = 777).fit(TrainX, TrainY)"
   ]
  },
  {
   "cell_type": "markdown",
   "id": "310dedd0",
   "metadata": {},
   "source": [
    "#### Prediction & Validation on Test set"
   ]
  },
  {
   "cell_type": "code",
   "execution_count": 38,
   "id": "f14f1c4c",
   "metadata": {},
   "outputs": [],
   "source": [
    "Test_Pred = M_rf1.predict(TestX)"
   ]
  },
  {
   "cell_type": "code",
   "execution_count": 39,
   "id": "b0d93393",
   "metadata": {},
   "outputs": [
    {
     "data": {
      "text/html": [
       "<div>\n",
       "<style scoped>\n",
       "    .dataframe tbody tr th:only-of-type {\n",
       "        vertical-align: middle;\n",
       "    }\n",
       "\n",
       "    .dataframe tbody tr th {\n",
       "        vertical-align: top;\n",
       "    }\n",
       "\n",
       "    .dataframe thead th {\n",
       "        text-align: right;\n",
       "    }\n",
       "</style>\n",
       "<table border=\"1\" class=\"dataframe\">\n",
       "  <thead>\n",
       "    <tr style=\"text-align: right;\">\n",
       "      <th>col_0</th>\n",
       "      <th>0</th>\n",
       "      <th>1</th>\n",
       "    </tr>\n",
       "    <tr>\n",
       "      <th>Deal Status Code</th>\n",
       "      <th></th>\n",
       "      <th></th>\n",
       "    </tr>\n",
       "  </thead>\n",
       "  <tbody>\n",
       "    <tr>\n",
       "      <th>0</th>\n",
       "      <td>1208</td>\n",
       "      <td>50</td>\n",
       "    </tr>\n",
       "    <tr>\n",
       "      <th>1</th>\n",
       "      <td>237</td>\n",
       "      <td>518</td>\n",
       "    </tr>\n",
       "  </tbody>\n",
       "</table>\n",
       "</div>"
      ],
      "text/plain": [
       "col_0                0    1\n",
       "Deal Status Code           \n",
       "0                 1208   50\n",
       "1                  237  518"
      ]
     },
     "execution_count": 39,
     "metadata": {},
     "output_type": "execute_result"
    }
   ],
   "source": [
    "Confu_mat = pd.crosstab(TestY, Test_Pred);Confu_mat"
   ]
  },
  {
   "cell_type": "markdown",
   "id": "b35fe641",
   "metadata": {},
   "source": [
    "#### Visualize Confusion_Matrix"
   ]
  },
  {
   "cell_type": "code",
   "execution_count": 40,
   "id": "d21589d5",
   "metadata": {
    "scrolled": true
   },
   "outputs": [
    {
     "data": {
      "text/plain": [
       "<sklearn.metrics._plot.confusion_matrix.ConfusionMatrixDisplay at 0x272da943340>"
      ]
     },
     "execution_count": 40,
     "metadata": {},
     "output_type": "execute_result"
    },
    {
     "data": {
      "image/png": "[encoded data removed]",
      "text/plain": [
       "<Figure size 432x288 with 2 Axes>"
      ]
     },
     "metadata": {
      "needs_background": "light"
     },
     "output_type": "display_data"
    }
   ],
   "source": [
    "Cm1 = confusion_matrix(TestY, Test_Pred, labels = M_rf1.classes_ )\n",
    "\n",
    "disp = ConfusionMatrixDisplay( confusion_matrix = Cm1, display_labels = M_rf1.classes_)\n",
    "disp.plot()"
   ]
  },
  {
   "cell_type": "code",
   "execution_count": 41,
   "id": "64bcca9f",
   "metadata": {
    "scrolled": true
   },
   "outputs": [
    {
     "name": "stdout",
     "output_type": "stream",
     "text": [
      "              precision    recall  f1-score   support\n",
      "\n",
      "           0       0.84      0.96      0.89      1258\n",
      "           1       0.91      0.69      0.78       755\n",
      "\n",
      "    accuracy                           0.86      2013\n",
      "   macro avg       0.87      0.82      0.84      2013\n",
      "weighted avg       0.86      0.86      0.85      2013\n",
      "\n",
      "Accuracy Score: 0.8574267262791853\n"
     ]
    }
   ],
   "source": [
    "print(classification_report(TestY, Test_Pred))\n",
    "\n",
    "a = accuracy_score(TestY, Test_Pred)\n",
    "print(\"Accuracy Score:\", a)"
   ]
  },
  {
   "cell_type": "markdown",
   "id": "b6231f56",
   "metadata": {},
   "source": [
    "#### ROC_ AUC Score"
   ]
  },
  {
   "cell_type": "code",
   "execution_count": 42,
   "id": "e28e10c7",
   "metadata": {},
   "outputs": [],
   "source": [
    "dt_score = M_rf1.predict_proba(TrainX)\n",
    "dt_score = dt_score[ :, 1]"
   ]
  },
  {
   "cell_type": "code",
   "execution_count": 43,
   "id": "06618758",
   "metadata": {},
   "outputs": [
    {
     "data": {
      "text/plain": [
       "0.9970178926441352"
      ]
     },
     "execution_count": 43,
     "metadata": {},
     "output_type": "execute_result"
    }
   ],
   "source": [
    "M_rf1.score(TrainX, TrainY)"
   ]
  },
  {
   "cell_type": "code",
   "execution_count": 44,
   "id": "40b6f917",
   "metadata": {},
   "outputs": [
    {
     "name": "stdout",
     "output_type": "stream",
     "text": [
      "ROC_AUC Score: 0.9999254490227153\n"
     ]
    }
   ],
   "source": [
    "r = roc_auc_score(TrainY, dt_score)\n",
    "print('ROC_AUC Score:', r)"
   ]
  },
  {
   "cell_type": "markdown",
   "id": "4f8a511e",
   "metadata": {},
   "source": [
    "#### Plot ROC_Curve"
   ]
  },
  {
   "cell_type": "code",
   "execution_count": 45,
   "id": "4b7f8857",
   "metadata": {},
   "outputs": [
    {
     "data": {
      "image/png": "[encoded data removed]",
      "text/plain": [
       "<Figure size 1440x720 with 1 Axes>"
      ]
     },
     "metadata": {
      "needs_background": "light"
     },
     "output_type": "display_data"
    }
   ],
   "source": [
    "false_positive_rate, true_positive_rate, thresholds = roc_curve(TrainY, dt_score)\n",
    "\n",
    "def plot_roc_curve(false_positive_rate, true_positive_rate, label=None):\n",
    "    plt.plot(false_positive_rate, true_positive_rate, linewidth=2, label=label)\n",
    "    plt.plot([0, 1], [0, 1], 'r', linewidth=4)\n",
    "    plt.axis([0, 1, 0, 1])\n",
    "    plt.xlabel('False Positive Rate (FPR)', fontsize=18)\n",
    "    plt.ylabel('True Positive Rate (TPR)', fontsize=18)\n",
    "\n",
    "plt.figure (figsize = (20,10))\n",
    "plot_roc_curve(false_positive_rate, true_positive_rate)\n",
    "plt.show()"
   ]
  },
  {
   "cell_type": "markdown",
   "id": "5497699f",
   "metadata": {},
   "source": [
    "#### True Loss"
   ]
  },
  {
   "cell_type": "code",
   "execution_count": 46,
   "id": "29667cdb",
   "metadata": {},
   "outputs": [
    {
     "data": {
      "text/plain": [
       "153437941.31"
      ]
     },
     "execution_count": 46,
     "metadata": {},
     "output_type": "execute_result"
    }
   ],
   "source": [
    "report = TestY.copy()\n",
    "report = pd.DataFrame(report)\n",
    "\n",
    "report[\"Prediction\"]= Test_Pred\n",
    "report[\"Deal Cost\"] = np.exp(TestX[\"Log Deal Cost\"])\n",
    "\n",
    "\n",
    "True_Loss = report[(report['Deal Status Code'] == 1) & (report['Prediction'] == 0)].sum()\n",
    "True_Loss['Deal Cost']"
   ]
  },
  {
   "cell_type": "markdown",
   "id": "f28fb26d",
   "metadata": {},
   "source": [
    "### Variable Importance"
   ]
  },
  {
   "cell_type": "code",
   "execution_count": 47,
   "id": "2ac5370b",
   "metadata": {},
   "outputs": [],
   "source": [
    "Var_imp_df = pd.concat([pd.DataFrame(M_rf1.feature_importances_), pd.DataFrame(TrainX.columns)], axis = 1)"
   ]
  },
  {
   "cell_type": "code",
   "execution_count": 48,
   "id": "12dcfcd9",
   "metadata": {},
   "outputs": [
    {
     "data": {
      "text/html": [
       "<div>\n",
       "<style scoped>\n",
       "    .dataframe tbody tr th:only-of-type {\n",
       "        vertical-align: middle;\n",
       "    }\n",
       "\n",
       "    .dataframe tbody tr th {\n",
       "        vertical-align: top;\n",
       "    }\n",
       "\n",
       "    .dataframe thead th {\n",
       "        text-align: right;\n",
       "    }\n",
       "</style>\n",
       "<table border=\"1\" class=\"dataframe\">\n",
       "  <thead>\n",
       "    <tr style=\"text-align: right;\">\n",
       "      <th></th>\n",
       "      <th>Value</th>\n",
       "      <th>Variable_Name</th>\n",
       "    </tr>\n",
       "  </thead>\n",
       "  <tbody>\n",
       "    <tr>\n",
       "      <th>5</th>\n",
       "      <td>0.346597</td>\n",
       "      <td>Vp_Manager</td>\n",
       "    </tr>\n",
       "    <tr>\n",
       "      <th>4</th>\n",
       "      <td>0.262611</td>\n",
       "      <td>Log Deal Cost</td>\n",
       "    </tr>\n",
       "    <tr>\n",
       "      <th>1</th>\n",
       "      <td>0.133675</td>\n",
       "      <td>Solution Type</td>\n",
       "    </tr>\n",
       "    <tr>\n",
       "      <th>0</th>\n",
       "      <td>0.105477</td>\n",
       "      <td>Client Category</td>\n",
       "    </tr>\n",
       "    <tr>\n",
       "      <th>2</th>\n",
       "      <td>0.088032</td>\n",
       "      <td>Sector</td>\n",
       "    </tr>\n",
       "    <tr>\n",
       "      <th>3</th>\n",
       "      <td>0.063608</td>\n",
       "      <td>Location</td>\n",
       "    </tr>\n",
       "  </tbody>\n",
       "</table>\n",
       "</div>"
      ],
      "text/plain": [
       "      Value    Variable_Name\n",
       "5  0.346597       Vp_Manager\n",
       "4  0.262611    Log Deal Cost\n",
       "1  0.133675    Solution Type\n",
       "0  0.105477  Client Category\n",
       "2  0.088032           Sector\n",
       "3  0.063608         Location"
      ]
     },
     "execution_count": 48,
     "metadata": {},
     "output_type": "execute_result"
    }
   ],
   "source": [
    "Var_imp_df.columns = [\"Value\", \"Variable_Name\"]\n",
    "Var_imp_df.sort_values(\"Value\", ascending = False, inplace = True);Var_imp_df"
   ]
  },
  {
   "cell_type": "code",
   "execution_count": 49,
   "id": "9aae7235",
   "metadata": {},
   "outputs": [],
   "source": [
    "Var_imp_df.to_csv(\"Var_imp_df2.csv\", index = False)"
   ]
  },
  {
   "cell_type": "markdown",
   "id": "c9a68ae9",
   "metadata": {},
   "source": [
    "### Visualization"
   ]
  },
  {
   "cell_type": "code",
   "execution_count": 50,
   "id": "c509bc6e",
   "metadata": {},
   "outputs": [
    {
     "data": {
      "image/png": "[encoded data removed]",
      "text/plain": [
       "<Figure size 1440x720 with 1 Axes>"
      ]
     },
     "metadata": {
      "needs_background": "light"
     },
     "output_type": "display_data"
    }
   ],
   "source": [
    "plt.figure(figsize = (20,10))\n",
    "plt.xticks(rotation = 0)\n",
    "plot= sns.barplot(x = \"Variable_Name\", y = \"Value\", data = Var_imp_df)"
   ]
  },
  {
   "cell_type": "markdown",
   "id": "3365e499",
   "metadata": {},
   "source": [
    "#### RF_Model with Tuning Parameters"
   ]
  },
  {
   "cell_type": "code",
   "execution_count": 51,
   "id": "481c9723",
   "metadata": {},
   "outputs": [],
   "source": [
    "M_rf2 = RandomForestClassifier( random_state = 143, n_estimators = 25,\n",
    "                                max_features = 5, min_samples_leaf = 500)"
   ]
  },
  {
   "cell_type": "code",
   "execution_count": 52,
   "id": "d1be637e",
   "metadata": {},
   "outputs": [],
   "source": [
    "M_rf2 = M_rf2.fit(TrainX, TrainY)"
   ]
  },
  {
   "cell_type": "markdown",
   "id": "22943a66",
   "metadata": {},
   "source": [
    "#### Prediction & Validation on Test set"
   ]
  },
  {
   "cell_type": "code",
   "execution_count": 53,
   "id": "0c455fc8",
   "metadata": {},
   "outputs": [],
   "source": [
    "Test_Pred2 = M_rf2.predict(TestX)"
   ]
  },
  {
   "cell_type": "code",
   "execution_count": 54,
   "id": "5e2473c6",
   "metadata": {},
   "outputs": [
    {
     "data": {
      "text/html": [
       "<div>\n",
       "<style scoped>\n",
       "    .dataframe tbody tr th:only-of-type {\n",
       "        vertical-align: middle;\n",
       "    }\n",
       "\n",
       "    .dataframe tbody tr th {\n",
       "        vertical-align: top;\n",
       "    }\n",
       "\n",
       "    .dataframe thead th {\n",
       "        text-align: right;\n",
       "    }\n",
       "</style>\n",
       "<table border=\"1\" class=\"dataframe\">\n",
       "  <thead>\n",
       "    <tr style=\"text-align: right;\">\n",
       "      <th>col_0</th>\n",
       "      <th>0</th>\n",
       "      <th>1</th>\n",
       "    </tr>\n",
       "    <tr>\n",
       "      <th>Deal Status Code</th>\n",
       "      <th></th>\n",
       "      <th></th>\n",
       "    </tr>\n",
       "  </thead>\n",
       "  <tbody>\n",
       "    <tr>\n",
       "      <th>0</th>\n",
       "      <td>1091</td>\n",
       "      <td>167</td>\n",
       "    </tr>\n",
       "    <tr>\n",
       "      <th>1</th>\n",
       "      <td>388</td>\n",
       "      <td>367</td>\n",
       "    </tr>\n",
       "  </tbody>\n",
       "</table>\n",
       "</div>"
      ],
      "text/plain": [
       "col_0                0    1\n",
       "Deal Status Code           \n",
       "0                 1091  167\n",
       "1                  388  367"
      ]
     },
     "execution_count": 54,
     "metadata": {},
     "output_type": "execute_result"
    }
   ],
   "source": [
    "Confu_mat2 = pd.crosstab(TestY, Test_Pred2);Confu_mat2"
   ]
  },
  {
   "cell_type": "markdown",
   "id": "650eee0f",
   "metadata": {},
   "source": [
    "#### Visualize Confusion_Matrix"
   ]
  },
  {
   "cell_type": "code",
   "execution_count": 55,
   "id": "66aae1d5",
   "metadata": {},
   "outputs": [
    {
     "data": {
      "text/plain": [
       "<sklearn.metrics._plot.confusion_matrix.ConfusionMatrixDisplay at 0x272dca230d0>"
      ]
     },
     "execution_count": 55,
     "metadata": {},
     "output_type": "execute_result"
    },
    {
     "data": {
      "image/png": "[encoded data removed]",
      "text/plain": [
       "<Figure size 432x288 with 2 Axes>"
      ]
     },
     "metadata": {
      "needs_background": "light"
     },
     "output_type": "display_data"
    }
   ],
   "source": [
    "Cm2 = confusion_matrix(TestY, Test_Pred2, labels = M_rf2.classes_ )\n",
    "\n",
    "disp = ConfusionMatrixDisplay( confusion_matrix = Cm2, display_labels = M_rf2.classes_)\n",
    "disp.plot()"
   ]
  },
  {
   "cell_type": "markdown",
   "id": "6680a073",
   "metadata": {},
   "source": [
    "### RandomForest Grid Searching"
   ]
  },
  {
   "cell_type": "code",
   "execution_count": 56,
   "id": "37d5a77b",
   "metadata": {},
   "outputs": [],
   "source": [
    "from sklearn.model_selection import GridSearchCV"
   ]
  },
  {
   "cell_type": "code",
   "execution_count": 57,
   "id": "c9faa150",
   "metadata": {},
   "outputs": [],
   "source": [
    "my_para_grid = {\"n_estimators\"     : [25, 50, 75],\n",
    "                \"max_features\"     : [5, 7, 9],\n",
    "                \"min_samples_leaf\" : [100, 200] }"
   ]
  },
  {
   "cell_type": "markdown",
   "id": "c83aefb4",
   "metadata": {},
   "source": [
    "Grid_search_Model(Gsm)"
   ]
  },
  {
   "cell_type": "code",
   "execution_count": 58,
   "id": "6da305c7",
   "metadata": {},
   "outputs": [],
   "source": [
    "Gsm = GridSearchCV(estimator  = RandomForestClassifier(random_state = 13),\n",
    "                   param_grid = my_para_grid,\n",
    "                   scoring    = \"accuracy\",\n",
    "                   cv         = 3).fit(TrainX, TrainY)"
   ]
  },
  {
   "cell_type": "markdown",
   "id": "9f508c90",
   "metadata": {},
   "source": [
    "#### Prediction & Validation on Test set"
   ]
  },
  {
   "cell_type": "code",
   "execution_count": 59,
   "id": "8fd23975",
   "metadata": {},
   "outputs": [],
   "source": [
    "M_Val_df = pd.DataFrame.from_dict(Gsm.cv_results_)"
   ]
  },
  {
   "cell_type": "code",
   "execution_count": 60,
   "id": "6526d861",
   "metadata": {},
   "outputs": [],
   "source": [
    "Rf_Final = RandomForestClassifier(random_state = 127, n_estimators   = 50,\n",
    "                                  max_features = 5, min_samples_leaf = 100).fit(TrainX, TrainY)"
   ]
  },
  {
   "cell_type": "code",
   "execution_count": 61,
   "id": "645b619d",
   "metadata": {},
   "outputs": [],
   "source": [
    "Tp_Final = Rf_Final.predict(TestX)"
   ]
  },
  {
   "cell_type": "code",
   "execution_count": 62,
   "id": "1422decd",
   "metadata": {},
   "outputs": [
    {
     "data": {
      "text/html": [
       "<div>\n",
       "<style scoped>\n",
       "    .dataframe tbody tr th:only-of-type {\n",
       "        vertical-align: middle;\n",
       "    }\n",
       "\n",
       "    .dataframe tbody tr th {\n",
       "        vertical-align: top;\n",
       "    }\n",
       "\n",
       "    .dataframe thead th {\n",
       "        text-align: right;\n",
       "    }\n",
       "</style>\n",
       "<table border=\"1\" class=\"dataframe\">\n",
       "  <thead>\n",
       "    <tr style=\"text-align: right;\">\n",
       "      <th>col_0</th>\n",
       "      <th>0</th>\n",
       "      <th>1</th>\n",
       "    </tr>\n",
       "    <tr>\n",
       "      <th>Deal Status Code</th>\n",
       "      <th></th>\n",
       "      <th></th>\n",
       "    </tr>\n",
       "  </thead>\n",
       "  <tbody>\n",
       "    <tr>\n",
       "      <th>0</th>\n",
       "      <td>1096</td>\n",
       "      <td>162</td>\n",
       "    </tr>\n",
       "    <tr>\n",
       "      <th>1</th>\n",
       "      <td>353</td>\n",
       "      <td>402</td>\n",
       "    </tr>\n",
       "  </tbody>\n",
       "</table>\n",
       "</div>"
      ],
      "text/plain": [
       "col_0                0    1\n",
       "Deal Status Code           \n",
       "0                 1096  162\n",
       "1                  353  402"
      ]
     },
     "execution_count": 62,
     "metadata": {},
     "output_type": "execute_result"
    }
   ],
   "source": [
    "Cm_final = pd.crosstab(TestY, Tp_Final);Cm_final"
   ]
  },
  {
   "cell_type": "markdown",
   "id": "2fff95cf",
   "metadata": {},
   "source": [
    "#### Visualize Confusion_Matrix"
   ]
  },
  {
   "cell_type": "code",
   "execution_count": 63,
   "id": "a0dca0e7",
   "metadata": {
    "scrolled": true
   },
   "outputs": [
    {
     "data": {
      "text/plain": [
       "<sklearn.metrics._plot.confusion_matrix.ConfusionMatrixDisplay at 0x272dcd7a4f0>"
      ]
     },
     "execution_count": 63,
     "metadata": {},
     "output_type": "execute_result"
    },
    {
     "data": {
      "image/png": "[encoded data removed]",
      "text/plain": [
       "<Figure size 432x288 with 2 Axes>"
      ]
     },
     "metadata": {
      "needs_background": "light"
     },
     "output_type": "display_data"
    }
   ],
   "source": [
    "Cm = confusion_matrix(TestY, Tp_Final, labels = Rf_Final.classes_ )\n",
    "\n",
    "disp = ConfusionMatrixDisplay( confusion_matrix = Cm, display_labels = Rf_Final.classes_)\n",
    "disp.plot()"
   ]
  },
  {
   "cell_type": "code",
   "execution_count": 64,
   "id": "d56cfb43",
   "metadata": {},
   "outputs": [
    {
     "name": "stdout",
     "output_type": "stream",
     "text": [
      "              precision    recall  f1-score   support\n",
      "\n",
      "           0       0.76      0.87      0.81      1258\n",
      "           1       0.71      0.53      0.61       755\n",
      "\n",
      "    accuracy                           0.74      2013\n",
      "   macro avg       0.73      0.70      0.71      2013\n",
      "weighted avg       0.74      0.74      0.73      2013\n",
      "\n",
      "Accuracy Score: 0.7441629408842524\n"
     ]
    }
   ],
   "source": [
    "print(classification_report(TestY, Tp_Final))\n",
    "\n",
    "a = accuracy_score(TestY, Tp_Final)\n",
    "print(\"Accuracy Score:\", a)"
   ]
  },
  {
   "cell_type": "markdown",
   "id": "67a36df2",
   "metadata": {},
   "source": [
    "#### ROC_ AUC Score"
   ]
  },
  {
   "cell_type": "code",
   "execution_count": 65,
   "id": "c4d28a7e",
   "metadata": {},
   "outputs": [],
   "source": [
    "dt_score = Rf_Final.predict_proba(TrainX)\n",
    "dt_score = dt_score[ :, 1]"
   ]
  },
  {
   "cell_type": "code",
   "execution_count": 66,
   "id": "7cfd1b39",
   "metadata": {},
   "outputs": [
    {
     "data": {
      "text/plain": [
       "0.7599403578528827"
      ]
     },
     "execution_count": 66,
     "metadata": {},
     "output_type": "execute_result"
    }
   ],
   "source": [
    "Rf_Final.score(TrainX, TrainY)"
   ]
  },
  {
   "cell_type": "code",
   "execution_count": 67,
   "id": "696f151c",
   "metadata": {},
   "outputs": [
    {
     "name": "stdout",
     "output_type": "stream",
     "text": [
      "ROC_AUC Score: 0.8293553222398309\n"
     ]
    }
   ],
   "source": [
    "r = roc_auc_score(TrainY, dt_score)\n",
    "print('ROC_AUC Score:', r)"
   ]
  },
  {
   "cell_type": "markdown",
   "id": "17d2d905",
   "metadata": {},
   "source": [
    "#### Plot ROC_Curve"
   ]
  },
  {
   "cell_type": "code",
   "execution_count": 68,
   "id": "644fe161",
   "metadata": {},
   "outputs": [
    {
     "data": {
      "image/png": "[encoded data removed]",
      "text/plain": [
       "<Figure size 1440x720 with 1 Axes>"
      ]
     },
     "metadata": {
      "needs_background": "light"
     },
     "output_type": "display_data"
    }
   ],
   "source": [
    "false_positive_rate, true_positive_rate, thresholds = roc_curve(TrainY, dt_score)\n",
    "\n",
    "def plot_roc_curve(false_positive_rate, true_positive_rate, label=None):\n",
    "    plt.plot(false_positive_rate, true_positive_rate, linewidth=2, label=label)\n",
    "    plt.plot([0, 1], [0, 1], 'r', linewidth=4)\n",
    "    plt.axis([0, 1, 0, 1])\n",
    "    plt.xlabel('False Positive Rate (FPR)', fontsize=18)\n",
    "    plt.ylabel('True Positive Rate (TPR)', fontsize=18)\n",
    "\n",
    "plt.figure (figsize = (20,10))\n",
    "plot_roc_curve(false_positive_rate, true_positive_rate)\n",
    "plt.show()"
   ]
  },
  {
   "cell_type": "markdown",
   "id": "8777c0bb",
   "metadata": {},
   "source": [
    "#### True Loss"
   ]
  },
  {
   "cell_type": "code",
   "execution_count": 69,
   "id": "3f74338f",
   "metadata": {},
   "outputs": [
    {
     "data": {
      "text/plain": [
       "254671470.84"
      ]
     },
     "execution_count": 69,
     "metadata": {},
     "output_type": "execute_result"
    }
   ],
   "source": [
    "report = TestY.copy()\n",
    "report = pd.DataFrame(report)\n",
    "\n",
    "report[\"Prediction\"]= Tp_Final\n",
    "report[\"Deal Cost\"] = np.exp(TestX[\"Log Deal Cost\"])\n",
    "\n",
    "\n",
    "True_Loss = report[(report['Deal Status Code'] == 1) & (report['Prediction'] == 0)].sum()\n",
    "True_Loss['Deal Cost']"
   ]
  }
 ],
 "metadata": {
  "kernelspec": {
   "display_name": "Python 3",
   "language": "python",
   "name": "python3"
  },
  "language_info": {
   "codemirror_mode": {
    "name": "ipython",
    "version": 3
   },
   "file_extension": ".py",
   "mimetype": "text/x-python",
   "name": "python",
   "nbconvert_exporter": "python",
   "pygments_lexer": "ipython3",
   "version": "3.8.8"
  }
 },
 "nbformat": 4,
 "nbformat_minor": 5
}
